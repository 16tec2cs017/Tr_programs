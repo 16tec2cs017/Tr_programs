{
  "nbformat": 4,
  "nbformat_minor": 0,
  "metadata": {
    "colab": {
      "name": "0407DL01.ipynb",
      "version": "0.3.2",
      "provenance": [],
      "collapsed_sections": []
    },
    "kernelspec": {
      "name": "python3",
      "display_name": "Python 3"
    }
  },
  "cells": [
    {
      "cell_type": "markdown",
      "metadata": {
        "id": "_i7qHzusiN8H",
        "colab_type": "text"
      },
      "source": [
        "Lemmatization "
      ]
    },
    {
      "cell_type": "code",
      "metadata": {
        "id": "D1HoTingerNY",
        "colab_type": "code",
        "colab": {}
      },
      "source": [
        "import spacy"
      ],
      "execution_count": 0,
      "outputs": []
    },
    {
      "cell_type": "code",
      "metadata": {
        "id": "nvzXZ1doeswy",
        "colab_type": "code",
        "colab": {}
      },
      "source": [
        "#language en\n",
        "nlp=spacy.load('en')"
      ],
      "execution_count": 0,
      "outputs": []
    },
    {
      "cell_type": "code",
      "metadata": {
        "id": "2OymKcBBe0jV",
        "colab_type": "code",
        "colab": {}
      },
      "source": [
        "data=\"hello world i am going out side for playing cricket my\"\n"
      ],
      "execution_count": 0,
      "outputs": []
    },
    {
      "cell_type": "code",
      "metadata": {
        "id": "8E9uANQFhCPX",
        "colab_type": "code",
        "colab": {}
      },
      "source": [
        "newdata=nlp(data)"
      ],
      "execution_count": 0,
      "outputs": []
    },
    {
      "cell_type": "code",
      "metadata": {
        "colab_type": "code",
        "outputId": "1e2d96c4-cc00-4ce5-8559-0fc5464a136c",
        "id": "6-Bkug2Ult4E",
        "colab": {
          "base_uri": "https://localhost:8080/",
          "height": 578
        }
      },
      "source": [
        "for i in newdata:\n",
        "  print(i,\"Lemmatization of words ----->\",i.lemma)\n",
        "  print(i,\"pos\",i.pos)"
      ],
      "execution_count": 0,
      "outputs": [
        {
          "output_type": "stream",
          "text": [
            "hello Lemmatization of words -----> 5983625672228268878\n",
            "#######################################################\n",
            "hello pos 91\n",
            "world Lemmatization of words -----> 1703489418272052182\n",
            "#######################################################\n",
            "world pos 92\n",
            "i Lemmatization of words -----> 5097672513440128799\n",
            "#######################################################\n",
            "i pos 95\n",
            "am Lemmatization of words -----> 10382539506755952630\n",
            "#######################################################\n",
            "am pos 100\n",
            "going Lemmatization of words -----> 8004577259940138793\n",
            "#######################################################\n",
            "going pos 100\n",
            "out Lemmatization of words -----> 1696981056005371314\n",
            "#######################################################\n",
            "out pos 94\n",
            "side Lemmatization of words -----> 8664790716774201746\n",
            "#######################################################\n",
            "side pos 92\n",
            "for Lemmatization of words -----> 16037325823156266367\n",
            "#######################################################\n",
            "for pos 85\n",
            "playing Lemmatization of words -----> 8228585124152053988\n",
            "#######################################################\n",
            "playing pos 100\n",
            "cricket Lemmatization of words -----> 12960314961752105148\n",
            "#######################################################\n",
            "cricket pos 92\n",
            "my Lemmatization of words -----> 561228191312463089\n",
            "#######################################################\n",
            "my pos 90\n"
          ],
          "name": "stdout"
        }
      ]
    }
  ]
}