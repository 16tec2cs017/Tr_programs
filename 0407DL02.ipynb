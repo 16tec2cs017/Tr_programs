{
  "nbformat": 4,
  "nbformat_minor": 0,
  "metadata": {
    "colab": {
      "name": "0407DL02.ipynb",
      "version": "0.3.2",
      "provenance": []
    },
    "kernelspec": {
      "name": "python3",
      "display_name": "Python 3"
    }
  },
  "cells": [
    {
      "cell_type": "markdown",
      "metadata": {
        "id": "oZVM9aVSkR7x",
        "colab_type": "text"
      },
      "source": [
        "# Dictionary NLP wordnet"
      ]
    },
    {
      "cell_type": "code",
      "metadata": {
        "id": "LVZydubihPXQ",
        "colab_type": "code",
        "outputId": "131f003a-8435-436c-c48a-d48006fe655c",
        "colab": {
          "base_uri": "https://localhost:8080/",
          "height": 51
        }
      },
      "source": [
        "import nltk\n",
        "nltk.download('wordnet')\n",
        "from nltk.corpus import wordnet\n",
        "import time"
      ],
      "execution_count": 0,
      "outputs": [
        {
          "output_type": "stream",
          "text": [
            "[nltk_data] Downloading package wordnet to /root/nltk_data...\n",
            "[nltk_data]   Package wordnet is already up-to-date!\n"
          ],
          "name": "stdout"
        }
      ]
    },
    {
      "cell_type": "code",
      "metadata": {
        "id": "IuvE-ahthTPo",
        "colab_type": "code",
        "colab": {}
      },
      "source": [
        "ws=wordnet.synsets('work')"
      ],
      "execution_count": 0,
      "outputs": []
    },
    {
      "cell_type": "code",
      "metadata": {
        "id": "6QamuOBehalj",
        "colab_type": "code",
        "outputId": "18b8866e-e313-4f1f-eda4-b48b43f76d11",
        "colab": {
          "base_uri": "https://localhost:8080/",
          "height": 595
        }
      },
      "source": [
        "ws"
      ],
      "execution_count": 0,
      "outputs": [
        {
          "output_type": "execute_result",
          "data": {
            "text/plain": [
              "[Synset('work.n.01'),\n",
              " Synset('work.n.02'),\n",
              " Synset('employment.n.02'),\n",
              " Synset('study.n.02'),\n",
              " Synset('work.n.05'),\n",
              " Synset('workplace.n.01'),\n",
              " Synset('oeuvre.n.01'),\n",
              " Synset('work.v.01'),\n",
              " Synset('work.v.02'),\n",
              " Synset('work.v.03'),\n",
              " Synset('function.v.01'),\n",
              " Synset('work.v.05'),\n",
              " Synset('exercise.v.03'),\n",
              " Synset('make.v.36'),\n",
              " Synset('work.v.08'),\n",
              " Synset('work.v.09'),\n",
              " Synset('work.v.10'),\n",
              " Synset('bring.v.03'),\n",
              " Synset('work.v.12'),\n",
              " Synset('cultivate.v.02'),\n",
              " Synset('work.v.14'),\n",
              " Synset('influence.v.01'),\n",
              " Synset('work.v.16'),\n",
              " Synset('work.v.17'),\n",
              " Synset('work.v.18'),\n",
              " Synset('work.v.19'),\n",
              " Synset('shape.v.02'),\n",
              " Synset('work.v.21'),\n",
              " Synset('knead.v.01'),\n",
              " Synset('exploit.v.01'),\n",
              " Synset('solve.v.01'),\n",
              " Synset('ferment.v.03'),\n",
              " Synset('sour.v.01'),\n",
              " Synset('work.v.27')]"
            ]
          },
          "metadata": {
            "tags": []
          },
          "execution_count": 8
        }
      ]
    },
    {
      "cell_type": "code",
      "metadata": {
        "id": "bFrSJ6R2hita",
        "colab_type": "code",
        "outputId": "75b721ad-c047-4824-c8fc-795c9bd308fa",
        "colab": {
          "base_uri": "https://localhost:8080/",
          "height": 34
        }
      },
      "source": [
        "ws[0].definition()"
      ],
      "execution_count": 0,
      "outputs": [
        {
          "output_type": "execute_result",
          "data": {
            "text/plain": [
              "'activity directed toward making or doing something'"
            ]
          },
          "metadata": {
            "tags": []
          },
          "execution_count": 9
        }
      ]
    },
    {
      "cell_type": "code",
      "metadata": {
        "id": "35UKADgQhzL_",
        "colab_type": "code",
        "outputId": "7f4fc216-39c5-4fb8-f9d6-b5a9ee11c46f",
        "colab": {
          "base_uri": "https://localhost:8080/",
          "height": 34
        }
      },
      "source": [
        "ws[1].definition()"
      ],
      "execution_count": 0,
      "outputs": [
        {
          "output_type": "execute_result",
          "data": {
            "text/plain": [
              "'a product produced or accomplished through the effort or activity or agency of a person or thing'"
            ]
          },
          "metadata": {
            "tags": []
          },
          "execution_count": 10
        }
      ]
    },
    {
      "cell_type": "code",
      "metadata": {
        "id": "gFiHUK7Nh4I3",
        "colab_type": "code",
        "outputId": "9f93154b-ba29-4973-86fd-de450c4e8aca",
        "colab": {
          "base_uri": "https://localhost:8080/",
          "height": 34
        }
      },
      "source": [
        "ws[0].examples()"
      ],
      "execution_count": 0,
      "outputs": [
        {
          "output_type": "execute_result",
          "data": {
            "text/plain": [
              "['she checked several points needing further work']"
            ]
          },
          "metadata": {
            "tags": []
          },
          "execution_count": 11
        }
      ]
    },
    {
      "cell_type": "code",
      "metadata": {
        "id": "i5fKTd9ZiWTD",
        "colab_type": "code",
        "outputId": "2c9d6cab-b8e2-4d18-ec25-c5b2a44e2dcd",
        "colab": {
          "base_uri": "https://localhost:8080/",
          "height": 102
        }
      },
      "source": [
        "ws[1].examples()"
      ],
      "execution_count": 0,
      "outputs": [
        {
          "output_type": "execute_result",
          "data": {
            "text/plain": [
              "['it is not regarded as one of his more memorable works',\n",
              " 'the symphony was hailed as an ingenious work',\n",
              " 'he was indebted to the pioneering work of John Dewey',\n",
              " 'the work of an active imagination',\n",
              " 'erosion is the work of wind or water over time']"
            ]
          },
          "metadata": {
            "tags": []
          },
          "execution_count": 12
        }
      ]
    },
    {
      "cell_type": "code",
      "metadata": {
        "id": "i6GOOp5DiaMo",
        "colab_type": "code",
        "outputId": "d0199d15-07b9-4a00-b6e4-2e487b0fb3f3",
        "colab": {
          "base_uri": "https://localhost:8080/",
          "height": 1000
        }
      },
      "source": [
        "#exploring all books\n",
        "msg=input(\"Enter your key word you want to know about: \")\n",
        "for i in wordnet.synsets(msg):\n",
        "  print(\"_______________________________________________________________________________________\\n\\n\")\n",
        "  print(i.definition())\n",
        "  print(\"_______________________________________________________________________________________\\n\\n\")\n",
        "  print(i.examples())\n",
        "  print(\"_______________________________________________________________________________________\\n\\n\")\n",
        "  time.sleep(2)"
      ],
      "execution_count": 0,
      "outputs": [
        {
          "output_type": "stream",
          "text": [
            "Enter your key word you want to know about: love\n",
            "_______________________________________________________________________________________\n",
            "\n",
            "\n",
            "a strong positive emotion of regard and affection\n",
            "_______________________________________________________________________________________\n",
            "\n",
            "\n",
            "['his love for his work', 'children need a lot of love']\n",
            "_______________________________________________________________________________________\n",
            "\n",
            "\n",
            "_______________________________________________________________________________________\n",
            "\n",
            "\n",
            "any object of warm affection or devotion; \n",
            "_______________________________________________________________________________________\n",
            "\n",
            "\n",
            "['the theater was her first love', 'he has a passion for cock fighting']\n",
            "_______________________________________________________________________________________\n",
            "\n",
            "\n",
            "_______________________________________________________________________________________\n",
            "\n",
            "\n",
            "a beloved person; used as terms of endearment\n",
            "_______________________________________________________________________________________\n",
            "\n",
            "\n",
            "[]\n",
            "_______________________________________________________________________________________\n",
            "\n",
            "\n",
            "_______________________________________________________________________________________\n",
            "\n",
            "\n",
            "a deep feeling of sexual desire and attraction\n",
            "_______________________________________________________________________________________\n",
            "\n",
            "\n",
            "['their love left them indifferent to their surroundings', 'she was his first love']\n",
            "_______________________________________________________________________________________\n",
            "\n",
            "\n",
            "_______________________________________________________________________________________\n",
            "\n",
            "\n",
            "a score of zero in tennis or squash\n",
            "_______________________________________________________________________________________\n",
            "\n",
            "\n",
            "['it was 40 love']\n",
            "_______________________________________________________________________________________\n",
            "\n",
            "\n",
            "_______________________________________________________________________________________\n",
            "\n",
            "\n",
            "sexual activities (often including sexual intercourse) between two people\n",
            "_______________________________________________________________________________________\n",
            "\n",
            "\n",
            "['his lovemaking disgusted her', \"he hadn't had any love in months\", 'he has a very complicated love life']\n",
            "_______________________________________________________________________________________\n",
            "\n",
            "\n",
            "_______________________________________________________________________________________\n",
            "\n",
            "\n",
            "have a great affection or liking for\n",
            "_______________________________________________________________________________________\n",
            "\n",
            "\n",
            "['I love French food', 'She loves her boss and works hard for him']\n",
            "_______________________________________________________________________________________\n",
            "\n",
            "\n",
            "_______________________________________________________________________________________\n",
            "\n",
            "\n",
            "get pleasure from\n",
            "_______________________________________________________________________________________\n",
            "\n",
            "\n",
            "['I love cooking']\n",
            "_______________________________________________________________________________________\n",
            "\n",
            "\n",
            "_______________________________________________________________________________________\n",
            "\n",
            "\n",
            "be enamored or in love with\n",
            "_______________________________________________________________________________________\n",
            "\n",
            "\n",
            "['She loves her husband deeply']\n",
            "_______________________________________________________________________________________\n",
            "\n",
            "\n",
            "_______________________________________________________________________________________\n",
            "\n",
            "\n",
            "have sexual intercourse with\n",
            "_______________________________________________________________________________________\n",
            "\n",
            "\n",
            "['This student sleeps with everyone in her dorm', 'Adam knew Eve', 'Were you ever intimate with this man?']\n",
            "_______________________________________________________________________________________\n",
            "\n",
            "\n"
          ],
          "name": "stdout"
        }
      ]
    }
  ]
}