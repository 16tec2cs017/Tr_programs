{
  "nbformat": 4,
  "nbformat_minor": 0,
  "metadata": {
    "colab": {
      "name": "CNN.ipynb",
      "version": "0.3.2",
      "provenance": [],
      "collapsed_sections": []
    },
    "kernelspec": {
      "name": "python3",
      "display_name": "Python 3"
    }
  },
  "cells": [
    {
      "cell_type": "code",
      "metadata": {
        "id": "hJDWI9pDM6bV",
        "colab_type": "code",
        "colab": {}
      },
      "source": [
        "#importing all modules required for CNN creation\n",
        "import keras"
      ],
      "execution_count": 0,
      "outputs": []
    },
    {
      "cell_type": "code",
      "metadata": {
        "id": "uZzJpSoGYb8m",
        "colab_type": "code",
        "colab": {}
      },
      "source": [
        "#convolutional Model\n",
        "from keras.layers import Convolution2D\n",
        "#Max polling\n",
        "from keras.layers import MaxPool2D"
      ],
      "execution_count": 0,
      "outputs": []
    },
    {
      "cell_type": "code",
      "metadata": {
        "id": "-GahAzoSYqT1",
        "colab_type": "code",
        "colab": {}
      },
      "source": [
        "#max polling\n",
        "from keras.layers import Flatten"
      ],
      "execution_count": 0,
      "outputs": []
    },
    {
      "cell_type": "code",
      "metadata": {
        "id": "YSTS7IAuY1vx",
        "colab_type": "code",
        "colab": {}
      },
      "source": [
        "#Ann importing \n",
        "from keras.models import Sequential\n",
        "from keras.layers import Dense"
      ],
      "execution_count": 0,
      "outputs": []
    },
    {
      "cell_type": "code",
      "metadata": {
        "id": "BA5vWJ3sZHmg",
        "colab_type": "code",
        "colab": {}
      },
      "source": [
        "#classifier model\n",
        "model=Sequential()"
      ],
      "execution_count": 0,
      "outputs": []
    },
    {
      "cell_type": "code",
      "metadata": {
        "id": "VUygEPNWZNL-",
        "colab_type": "code",
        "colab": {
          "base_uri": "https://localhost:8080/",
          "height": 71
        },
        "outputId": "d37c5795-d3a8-4549-8b8d-a5c174149aa2"
      },
      "source": [
        "#creating convolution layer under model namespace\n",
        "model.add(Convolution2D(32,3,3,activation='relu',input_shape=(64,64,3)))\n",
        "#no of features extract frim original image from convolution ---3,3, --activation, image dimension\n",
        "#when outcomes will be generated that will lead to feature maps"
      ],
      "execution_count": 41,
      "outputs": [
        {
          "output_type": "stream",
          "text": [
            "/usr/local/lib/python3.6/dist-packages/ipykernel_launcher.py:1: UserWarning: Update your `Conv2D` call to the Keras 2 API: `Conv2D(32, (3, 3), activation=\"relu\", input_shape=(64, 64, 3...)`\n",
            "  \"\"\"Entry point for launching an IPython kernel.\n"
          ],
          "name": "stderr"
        }
      ]
    },
    {
      "cell_type": "code",
      "metadata": {
        "id": "250C8vswaIeh",
        "colab_type": "code",
        "colab": {}
      },
      "source": [
        "#now we can apply max polling in feature maps\n",
        "model.add(MaxPool2D(pool_size=(2,2)))"
      ],
      "execution_count": 0,
      "outputs": []
    },
    {
      "cell_type": "code",
      "metadata": {
        "id": "XIM5B6c4cL9x",
        "colab_type": "code",
        "colab": {}
      },
      "source": [
        "#here output will be sub object\n",
        "#the we can apply flattering\n",
        "model.add(Flatten())          # we don't have to any parameter --because data set column convert so that we can use this as input of ANN"
      ],
      "execution_count": 0,
      "outputs": []
    },
    {
      "cell_type": "code",
      "metadata": {
        "id": "oJTuysWld39N",
        "colab_type": "code",
        "colab": {}
      },
      "source": [
        "#Now we can give flatten output to input as ANN. first hidden layer or input layer\n",
        "model.add(Dense(128,activation='relu'))"
      ],
      "execution_count": 0,
      "outputs": []
    },
    {
      "cell_type": "code",
      "metadata": {
        "id": "mLYgH6yyeWiw",
        "colab_type": "code",
        "colab": {}
      },
      "source": [
        "#output layer ............\n",
        "model.add(Dense(1,activation='sigmoid'))"
      ],
      "execution_count": 0,
      "outputs": []
    },
    {
      "cell_type": "code",
      "metadata": {
        "id": "6ILaJi4Kl2ax",
        "colab_type": "code",
        "colab": {}
      },
      "source": [
        "#compile our ANN +CNN Model\n"
      ],
      "execution_count": 0,
      "outputs": []
    },
    {
      "cell_type": "code",
      "metadata": {
        "id": "eLtb3sZklfi2",
        "colab_type": "code",
        "colab": {}
      },
      "source": [
        "from keras.preprocessing.image import ImageDataGenerator"
      ],
      "execution_count": 0,
      "outputs": []
    },
    {
      "cell_type": "code",
      "metadata": {
        "id": "E4YEoEJlj4po",
        "colab_type": "code",
        "colab": {}
      },
      "source": [
        "#code for reading datasetfrom directory\n",
        "train_datagen = ImageDataGenerator(\n",
        "        rescale=1./255,\n",
        "        shear_range=0.2,\n",
        "        zoom_range=0.2,\n",
        "        horizontal_flip=True)\n",
        "\n",
        "test_datagen = ImageDataGenerator(rescale=1./255)\n",
        "\n",
        "train_generator = train_datagen.flow_from_directory(\n",
        "        'data/train',                                    #directory of training data\n",
        "        target_size=(64,64),\n",
        "        batch_size=32,\n",
        "        class_mode='binary')\n",
        "\n",
        "validation_generator = test_datagen.flow_from_directory(\n",
        "        'data/validation',                              #directory of testinmg data\n",
        "        target_size=(64,64),\n",
        "        batch_size=32,\n",
        "        class_mode='binary')\n",
        "\n",
        "model.fit_generator(\n",
        "        train_generator,\n",
        "        steps_per_epoch=2000,\n",
        "        epochs=50,\n",
        "        validation_data=validation_generator,\n",
        "        validation_steps=800)"
      ],
      "execution_count": 0,
      "outputs": []
    }
  ]
}