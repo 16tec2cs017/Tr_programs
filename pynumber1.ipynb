{
  "nbformat": 4,
  "nbformat_minor": 0,
  "metadata": {
    "colab": {
      "name": "pynumber1.ipynb",
      "version": "0.3.2",
      "provenance": [],
      "collapsed_sections": [],
      "include_colab_link": true
    },
    "kernelspec": {
      "name": "python3",
      "display_name": "Python 3"
    }
  },
  "cells": [
    {
      "cell_type": "markdown",
      "metadata": {
        "id": "view-in-github",
        "colab_type": "text"
      },
      "source": [
        "<a href=\"https://colab.research.google.com/github/nampy3/n_ml/blob/master/pynumber1.ipynb\" target=\"_parent\"><img src=\"https://colab.research.google.com/assets/colab-badge.svg\" alt=\"Open In Colab\"/></a>"
      ]
    },
    {
      "cell_type": "code",
      "metadata": {
        "id": "BCVWg6J8mYiX",
        "colab_type": "code",
        "colab": {}
      },
      "source": [
        "import numpy as np       #using library numpy as np"
      ],
      "execution_count": 0,
      "outputs": []
    },
    {
      "cell_type": "code",
      "metadata": {
        "id": "C9ZH4v2jmivn",
        "colab_type": "code",
        "outputId": "31b10c73-d8e9-4a37-c63f-a96fc1cddfc5",
        "colab": {
          "base_uri": "https://localhost:8080/",
          "height": 51
        }
      },
      "source": [
        "#taking input from user to number of rows and columns.\n",
        "x= int(input(\"Enter number of row: \"))       \n",
        "y= int(input(\"Enter number of column: \"))\n",
        "#generating random numbers in array.\n",
        "a=np.random.rand(x,y  )"
      ],
      "execution_count": 0,
      "outputs": [
        {
          "output_type": "stream",
          "text": [
            "Enter number of row: 23\n",
            "Enter number of column: 4\n"
          ],
          "name": "stdout"
        }
      ]
    },
    {
      "cell_type": "code",
      "metadata": {
        "id": "F6cB1J7LodiQ",
        "colab_type": "code",
        "colab": {}
      },
      "source": [
        "#printing array to a csv file named array.csv \n",
        "np.savetxt(\"array.csv\", a, delimiter=\",\")\n",
        "#printing  array stored in a.\n",
        "print(a)"
      ],
      "execution_count": 0,
      "outputs": []
    }
  ]
}