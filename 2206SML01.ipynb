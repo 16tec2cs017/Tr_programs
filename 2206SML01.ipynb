{
  "nbformat": 4,
  "nbformat_minor": 0,
  "metadata": {
    "colab": {
      "name": "2206SML01.ipynb",
      "version": "0.3.2",
      "provenance": [],
      "collapsed_sections": []
    },
    "kernelspec": {
      "name": "python3",
      "display_name": "Python 3"
    }
  },
  "cells": [
    {
      "cell_type": "markdown",
      "metadata": {
        "id": "9W56QDk5dMx0",
        "colab_type": "text"
      },
      "source": [
        "## ***K-NN(K- Nearest Neighbour) Classifier ***\n",
        "\n",
        "\n",
        "-----Does not perform  well for large datasets \n",
        "      \n",
        "      K Value odd (k!=1)\n",
        "\n",
        "    It supports reression"
      ]
    },
    {
      "cell_type": "code",
      "metadata": {
        "id": "0Y7OGQS_ThcJ",
        "colab_type": "code",
        "colab": {}
      },
      "source": [
        " #loading iris dataset\n",
        "  from sklearn.datasets import load_iris"
      ],
      "execution_count": 0,
      "outputs": []
    },
    {
      "cell_type": "code",
      "metadata": {
        "id": "1hQJ4sdAf_PH",
        "colab_type": "code",
        "colab": {}
      },
      "source": [
        "#loading into a variable\n",
        "iris_data=load_iris()"
      ],
      "execution_count": 0,
      "outputs": []
    },
    {
      "cell_type": "code",
      "metadata": {
        "id": "C3p5vZ9BgE5Z",
        "colab_type": "code",
        "colab": {
          "base_uri": "https://localhost:8080/",
          "height": 34
        },
        "outputId": "6679a931-7eb0-4aca-9485-a0bc355166e0"
      },
      "source": [
        "#describing iris data internally\n",
        "dir(iris_data)"
      ],
      "execution_count": 130,
      "outputs": [
        {
          "output_type": "execute_result",
          "data": {
            "text/plain": [
              "['DESCR', 'data', 'feature_names', 'filename', 'target', 'target_names']"
            ]
          },
          "metadata": {
            "tags": []
          },
          "execution_count": 130
        }
      ]
    },
    {
      "cell_type": "code",
      "metadata": {
        "id": "xa2AIeabghTq",
        "colab_type": "code",
        "colab": {
          "base_uri": "https://localhost:8080/",
          "height": 34
        },
        "outputId": "5a022267-123a-42ea-b61b-9a5127b7d563"
      },
      "source": [
        "#target output values..\n",
        "iris_data.target_names"
      ],
      "execution_count": 131,
      "outputs": [
        {
          "output_type": "execute_result",
          "data": {
            "text/plain": [
              "array(['setosa', 'versicolor', 'virginica'], dtype='<U10')"
            ]
          },
          "metadata": {
            "tags": []
          },
          "execution_count": 131
        }
      ]
    },
    {
      "cell_type": "code",
      "metadata": {
        "id": "3DnthtESgsSK",
        "colab_type": "code",
        "colab": {
          "base_uri": "https://localhost:8080/",
          "height": 87
        },
        "outputId": "fc4350ba-9ba5-4177-9cb7-5f986e642997"
      },
      "source": [
        "#now attribute of features\n",
        "iris_data.feature_names"
      ],
      "execution_count": 132,
      "outputs": [
        {
          "output_type": "execute_result",
          "data": {
            "text/plain": [
              "['sepal length (cm)',\n",
              " 'sepal width (cm)',\n",
              " 'petal length (cm)',\n",
              " 'petal width (cm)']"
            ]
          },
          "metadata": {
            "tags": []
          },
          "execution_count": 132
        }
      ]
    },
    {
      "cell_type": "code",
      "metadata": {
        "id": "E01i_5cUg4zP",
        "colab_type": "code",
        "colab": {}
      },
      "source": [
        "#data with atributes\n",
        "iris_features=iris_data.data"
      ],
      "execution_count": 0,
      "outputs": []
    },
    {
      "cell_type": "code",
      "metadata": {
        "id": "RDOTSg-KhDxy",
        "colab_type": "code",
        "colab": {}
      },
      "source": [
        "#extracting lable as per features\n",
        "label=iris_data.target"
      ],
      "execution_count": 0,
      "outputs": []
    },
    {
      "cell_type": "markdown",
      "metadata": {
        "id": "7d2L9xw3hb_L",
        "colab_type": "text"
      },
      "source": [
        "Showing Graph"
      ]
    },
    {
      "cell_type": "code",
      "metadata": {
        "id": "HbRLo1WThUpR",
        "colab_type": "code",
        "colab": {}
      },
      "source": [
        "#put your code for graph\n"
      ],
      "execution_count": 0,
      "outputs": []
    },
    {
      "cell_type": "code",
      "metadata": {
        "id": "TVoDqdMIhvd0",
        "colab_type": "code",
        "colab": {}
      },
      "source": [
        "#separating data into training and teating\n",
        "from sklearn.model_selection import train_test_split"
      ],
      "execution_count": 0,
      "outputs": []
    },
    {
      "cell_type": "code",
      "metadata": {
        "id": "JPbrL5YfhvPx",
        "colab_type": "code",
        "colab": {}
      },
      "source": [
        "train_data,test_data,train_label, test_label=train_test_split(iris_features, label, test_size=0.2,  random_state=0)"
      ],
      "execution_count": 0,
      "outputs": []
    },
    {
      "cell_type": "code",
      "metadata": {
        "id": "M7WkHMfOhl8s",
        "colab_type": "code",
        "colab": {}
      },
      "source": [
        "#importing k-NN classifier\n",
        "from sklearn.neighbors import KNeighborsClassifier"
      ],
      "execution_count": 0,
      "outputs": []
    },
    {
      "cell_type": "code",
      "metadata": {
        "id": "Qdu6BCGakWyQ",
        "colab_type": "code",
        "colab": {}
      },
      "source": [
        "#now calling KNN\n",
        "kcl=KNeighborsClassifier(n_neighbors=5)        #this is by default value of K"
      ],
      "execution_count": 0,
      "outputs": []
    },
    {
      "cell_type": "code",
      "metadata": {
        "id": "RvS7Sr7Vkq0Y",
        "colab_type": "code",
        "colab": {}
      },
      "source": [
        "#applying training data\n",
        "ktrained=kcl.fit(train_data, train_label)"
      ],
      "execution_count": 0,
      "outputs": []
    },
    {
      "cell_type": "code",
      "metadata": {
        "id": "f2W3PjY5lKHV",
        "colab_type": "code",
        "colab": {}
      },
      "source": [
        "#time for prediction\n",
        "predict_output=ktrained.predict(test_data)"
      ],
      "execution_count": 0,
      "outputs": []
    },
    {
      "cell_type": "code",
      "metadata": {
        "id": "y8XdC5IYlYKy",
        "colab_type": "code",
        "colab": {
          "base_uri": "https://localhost:8080/",
          "height": 52
        },
        "outputId": "847c8f96-8e62-4eec-9fec-2b96c07b1bec"
      },
      "source": [
        "predict_output"
      ],
      "execution_count": 141,
      "outputs": [
        {
          "output_type": "execute_result",
          "data": {
            "text/plain": [
              "array([2, 1, 0, 2, 0, 2, 0, 1, 1, 1, 2, 1, 1, 1, 2, 0, 1, 1, 0, 0, 2, 1,\n",
              "       0, 0, 2, 0, 0, 1, 1, 0])"
            ]
          },
          "metadata": {
            "tags": []
          },
          "execution_count": 141
        }
      ]
    },
    {
      "cell_type": "code",
      "metadata": {
        "id": "C1QjcgHLlaH6",
        "colab_type": "code",
        "colab": {
          "base_uri": "https://localhost:8080/",
          "height": 52
        },
        "outputId": "7ce156fc-ac29-4e56-ddbe-2a21eeb3df8e"
      },
      "source": [
        "test_label"
      ],
      "execution_count": 142,
      "outputs": [
        {
          "output_type": "execute_result",
          "data": {
            "text/plain": [
              "array([2, 1, 0, 2, 0, 2, 0, 1, 1, 1, 2, 1, 1, 1, 1, 0, 1, 1, 0, 0, 2, 1,\n",
              "       0, 0, 2, 0, 0, 1, 1, 0])"
            ]
          },
          "metadata": {
            "tags": []
          },
          "execution_count": 142
        }
      ]
    },
    {
      "cell_type": "code",
      "metadata": {
        "id": "byVZf6ZLlcPk",
        "colab_type": "code",
        "colab": {}
      },
      "source": [
        "from sklearn.metrics import accuracy_score"
      ],
      "execution_count": 0,
      "outputs": []
    },
    {
      "cell_type": "code",
      "metadata": {
        "id": "FYAsWr6NludI",
        "colab_type": "code",
        "colab": {
          "base_uri": "https://localhost:8080/",
          "height": 34
        },
        "outputId": "7b675b3e-405b-427b-fc6d-9f93295277b2"
      },
      "source": [
        "\n",
        "kacr=accuracy_score(test_label,predict_output)\n",
        "kacr"
      ],
      "execution_count": 151,
      "outputs": [
        {
          "output_type": "execute_result",
          "data": {
            "text/plain": [
              "0.9666666666666667"
            ]
          },
          "metadata": {
            "tags": []
          },
          "execution_count": 151
        }
      ]
    },
    {
      "cell_type": "code",
      "metadata": {
        "id": "DvQjaMxrl2jH",
        "colab_type": "code",
        "colab": {}
      },
      "source": [
        "#calling decision tree classifier \n",
        "from sklearn.tree import DecisionTreeClassifier\n",
        "dclf=DecisionTreeClassifier()"
      ],
      "execution_count": 0,
      "outputs": []
    },
    {
      "cell_type": "code",
      "metadata": {
        "id": "F75xiINzmZ7F",
        "colab_type": "code",
        "colab": {}
      },
      "source": [
        "#applying training data\n",
        "dtrained=dclf.fit(train_data, train_label)"
      ],
      "execution_count": 0,
      "outputs": []
    },
    {
      "cell_type": "code",
      "metadata": {
        "id": "KpMm_izjmfvg",
        "colab_type": "code",
        "colab": {}
      },
      "source": [
        "#time for prediction\n",
        "dpredict_output=dtrained.predict(test_data)"
      ],
      "execution_count": 0,
      "outputs": []
    },
    {
      "cell_type": "code",
      "metadata": {
        "id": "0iWZ1rGcmkDo",
        "colab_type": "code",
        "colab": {
          "base_uri": "https://localhost:8080/",
          "height": 34
        },
        "outputId": "d3716d1d-50f4-425a-fd7a-f092ab50e6ad"
      },
      "source": [
        "dacr=accuracy_score(test_label,predict_output)\n",
        "dacr"
      ],
      "execution_count": 150,
      "outputs": [
        {
          "output_type": "execute_result",
          "data": {
            "text/plain": [
              "0.9666666666666667"
            ]
          },
          "metadata": {
            "tags": []
          },
          "execution_count": 150
        }
      ]
    },
    {
      "cell_type": "code",
      "metadata": {
        "id": "1j9IIPc2nLC9",
        "colab_type": "code",
        "colab": {}
      },
      "source": [
        "#compare decision and KNN\n",
        "import matplotlib.pyplot as plt"
      ],
      "execution_count": 0,
      "outputs": []
    }
  ]
}