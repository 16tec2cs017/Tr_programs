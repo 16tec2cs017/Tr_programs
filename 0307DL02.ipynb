{
  "nbformat": 4,
  "nbformat_minor": 0,
  "metadata": {
    "colab": {
      "name": "0307DL02.ipynb",
      "version": "0.3.2",
      "provenance": []
    },
    "kernelspec": {
      "name": "python3",
      "display_name": "Python 3"
    }
  },
  "cells": [
    {
      "cell_type": "markdown",
      "metadata": {
        "id": "9Gn35m_rPdok",
        "colab_type": "text"
      },
      "source": [
        "# Tokenization in NLP"
      ]
    },
    {
      "cell_type": "code",
      "metadata": {
        "id": "zh4rTLfQPYna",
        "colab_type": "code",
        "colab": {}
      },
      "source": [
        "msg='''\n",
        "Hello, with that spelling, was used in publications in the US as early as the 18 October 1826 edition of the Norwich Courier of Norwich, Connecticut.[1] Another early use was an 1833 American book called The Sketches and Eccentricities of Col. David Crockett, of West Tennessee,[2] which was reprinted that same year in The London Literary Gazette.[3] The word was extensively used in literature by the 1860s.\n",
        "According to the Oxford English Dictionary, hello is an alteration of hallo, hollo,[1] which came from Old? High German \"halâ, holâ, emphatic imperative of halôn, holôn to fetch, used especially in hailing a ferryman.\"[5] It also connects the development of hello to the influence of an earlier form, holla, whose origin is in the French holà (roughly, 'whoa there!', from French là 'there').[6] As in addition to hello, halloo,[7] hallo, hollo, hullo and (rarely) hillo also exist as variants or related words, the word can be spelt using any of all five vowels.\n",
        "'''"
      ],
      "execution_count": 0,
      "outputs": []
    },
    {
      "cell_type": "code",
      "metadata": {
        "id": "4RHFBlbFQmX5",
        "colab_type": "code",
        "colab": {
          "base_uri": "https://localhost:8080/",
          "height": 102
        },
        "outputId": "29fbc282-81d3-4f6e-add8-25388ced222d"
      },
      "source": [
        "#import tokenizer\n",
        "from nltk.tokenize import sent_tokenize\n",
        "from nltk.tokenize import word_tokenize\n",
        "import nltk\n",
        "import matplotlib.pyplot as plt\n",
        "nltk.download('punkt')\n",
        "nltk.download('stopwords')"
      ],
      "execution_count": 2,
      "outputs": [
        {
          "output_type": "stream",
          "text": [
            "[nltk_data] Downloading package punkt to /root/nltk_data...\n",
            "[nltk_data]   Package punkt is already up-to-date!\n",
            "[nltk_data] Downloading package stopwords to /root/nltk_data...\n",
            "[nltk_data]   Unzipping corpora/stopwords.zip.\n"
          ],
          "name": "stdout"
        },
        {
          "output_type": "execute_result",
          "data": {
            "text/plain": [
              "True"
            ]
          },
          "metadata": {
            "tags": []
          },
          "execution_count": 2
        }
      ]
    },
    {
      "cell_type": "code",
      "metadata": {
        "id": "jDuJiyNsXhur",
        "colab_type": "code",
        "colab": {}
      },
      "source": [
        "#sentence tokenize\n",
        "sent=sent_tokenize(msg)"
      ],
      "execution_count": 0,
      "outputs": []
    },
    {
      "cell_type": "code",
      "metadata": {
        "id": "eE4NJoDXXuwr",
        "colab_type": "code",
        "colab": {
          "base_uri": "https://localhost:8080/",
          "height": 173
        },
        "outputId": "e4cc32ec-78b0-450d-ebdd-d28efe52d2a9"
      },
      "source": [
        "sent"
      ],
      "execution_count": 4,
      "outputs": [
        {
          "output_type": "execute_result",
          "data": {
            "text/plain": [
              "['\\nHello, with that spelling, was used in publications in the US as early as the 18 October 1826 edition of the Norwich Courier of Norwich, Connecticut.',\n",
              " '[1] Another early use was an 1833 American book called The Sketches and Eccentricities of Col. David Crockett, of West Tennessee,[2] which was reprinted that same year in The London Literary Gazette.',\n",
              " '[3] The word was extensively used in literature by the 1860s.',\n",
              " 'According to the Oxford English Dictionary, hello is an alteration of hallo, hollo,[1] which came from Old?',\n",
              " 'High German \"halâ, holâ, emphatic imperative of halôn, holôn to fetch, used especially in hailing a ferryman.',\n",
              " '\"[5] It also connects the development of hello to the influence of an earlier form, holla, whose origin is in the French holà (roughly, \\'whoa there!',\n",
              " \"', from French là 'there').\",\n",
              " '[6] As in addition to hello, halloo,[7] hallo, hollo, hullo and (rarely) hillo also exist as variants or related words, the word can be spelt using any of all five vowels.']"
            ]
          },
          "metadata": {
            "tags": []
          },
          "execution_count": 4
        }
      ]
    },
    {
      "cell_type": "code",
      "metadata": {
        "id": "kEU1vUGlX-Mm",
        "colab_type": "code",
        "colab": {
          "base_uri": "https://localhost:8080/",
          "height": 34
        },
        "outputId": "9ee444c9-2bc9-43b8-b2ef-5ad9768e3a3f"
      },
      "source": [
        "#no of sentences\n",
        "len(sent)"
      ],
      "execution_count": 5,
      "outputs": [
        {
          "output_type": "execute_result",
          "data": {
            "text/plain": [
              "8"
            ]
          },
          "metadata": {
            "tags": []
          },
          "execution_count": 5
        }
      ]
    },
    {
      "cell_type": "code",
      "metadata": {
        "id": "WJ7IUAbtYEax",
        "colab_type": "code",
        "colab": {}
      },
      "source": [
        "# now tokenizing by words\n",
        "word=word_tokenize(msg)"
      ],
      "execution_count": 0,
      "outputs": []
    },
    {
      "cell_type": "code",
      "metadata": {
        "id": "IzRXCkJSYTLy",
        "colab_type": "code",
        "colab": {
          "base_uri": "https://localhost:8080/",
          "height": 1000
        },
        "outputId": "d3889dba-e35f-47ac-befe-6bec1bd33c08"
      },
      "source": [
        "word"
      ],
      "execution_count": 7,
      "outputs": [
        {
          "output_type": "execute_result",
          "data": {
            "text/plain": [
              "['Hello',\n",
              " ',',\n",
              " 'with',\n",
              " 'that',\n",
              " 'spelling',\n",
              " ',',\n",
              " 'was',\n",
              " 'used',\n",
              " 'in',\n",
              " 'publications',\n",
              " 'in',\n",
              " 'the',\n",
              " 'US',\n",
              " 'as',\n",
              " 'early',\n",
              " 'as',\n",
              " 'the',\n",
              " '18',\n",
              " 'October',\n",
              " '1826',\n",
              " 'edition',\n",
              " 'of',\n",
              " 'the',\n",
              " 'Norwich',\n",
              " 'Courier',\n",
              " 'of',\n",
              " 'Norwich',\n",
              " ',',\n",
              " 'Connecticut',\n",
              " '.',\n",
              " '[',\n",
              " '1',\n",
              " ']',\n",
              " 'Another',\n",
              " 'early',\n",
              " 'use',\n",
              " 'was',\n",
              " 'an',\n",
              " '1833',\n",
              " 'American',\n",
              " 'book',\n",
              " 'called',\n",
              " 'The',\n",
              " 'Sketches',\n",
              " 'and',\n",
              " 'Eccentricities',\n",
              " 'of',\n",
              " 'Col.',\n",
              " 'David',\n",
              " 'Crockett',\n",
              " ',',\n",
              " 'of',\n",
              " 'West',\n",
              " 'Tennessee',\n",
              " ',',\n",
              " '[',\n",
              " '2',\n",
              " ']',\n",
              " 'which',\n",
              " 'was',\n",
              " 'reprinted',\n",
              " 'that',\n",
              " 'same',\n",
              " 'year',\n",
              " 'in',\n",
              " 'The',\n",
              " 'London',\n",
              " 'Literary',\n",
              " 'Gazette',\n",
              " '.',\n",
              " '[',\n",
              " '3',\n",
              " ']',\n",
              " 'The',\n",
              " 'word',\n",
              " 'was',\n",
              " 'extensively',\n",
              " 'used',\n",
              " 'in',\n",
              " 'literature',\n",
              " 'by',\n",
              " 'the',\n",
              " '1860s',\n",
              " '.',\n",
              " 'According',\n",
              " 'to',\n",
              " 'the',\n",
              " 'Oxford',\n",
              " 'English',\n",
              " 'Dictionary',\n",
              " ',',\n",
              " 'hello',\n",
              " 'is',\n",
              " 'an',\n",
              " 'alteration',\n",
              " 'of',\n",
              " 'hallo',\n",
              " ',',\n",
              " 'hollo',\n",
              " ',',\n",
              " '[',\n",
              " '1',\n",
              " ']',\n",
              " 'which',\n",
              " 'came',\n",
              " 'from',\n",
              " 'Old',\n",
              " '?',\n",
              " 'High',\n",
              " 'German',\n",
              " '``',\n",
              " 'halâ',\n",
              " ',',\n",
              " 'holâ',\n",
              " ',',\n",
              " 'emphatic',\n",
              " 'imperative',\n",
              " 'of',\n",
              " 'halôn',\n",
              " ',',\n",
              " 'holôn',\n",
              " 'to',\n",
              " 'fetch',\n",
              " ',',\n",
              " 'used',\n",
              " 'especially',\n",
              " 'in',\n",
              " 'hailing',\n",
              " 'a',\n",
              " 'ferryman',\n",
              " '.',\n",
              " '``',\n",
              " '[',\n",
              " '5',\n",
              " ']',\n",
              " 'It',\n",
              " 'also',\n",
              " 'connects',\n",
              " 'the',\n",
              " 'development',\n",
              " 'of',\n",
              " 'hello',\n",
              " 'to',\n",
              " 'the',\n",
              " 'influence',\n",
              " 'of',\n",
              " 'an',\n",
              " 'earlier',\n",
              " 'form',\n",
              " ',',\n",
              " 'holla',\n",
              " ',',\n",
              " 'whose',\n",
              " 'origin',\n",
              " 'is',\n",
              " 'in',\n",
              " 'the',\n",
              " 'French',\n",
              " 'holà',\n",
              " '(',\n",
              " 'roughly',\n",
              " ',',\n",
              " \"'whoa\",\n",
              " 'there',\n",
              " '!',\n",
              " \"'\",\n",
              " ',',\n",
              " 'from',\n",
              " 'French',\n",
              " 'là',\n",
              " \"'there\",\n",
              " \"'\",\n",
              " ')',\n",
              " '.',\n",
              " '[',\n",
              " '6',\n",
              " ']',\n",
              " 'As',\n",
              " 'in',\n",
              " 'addition',\n",
              " 'to',\n",
              " 'hello',\n",
              " ',',\n",
              " 'halloo',\n",
              " ',',\n",
              " '[',\n",
              " '7',\n",
              " ']',\n",
              " 'hallo',\n",
              " ',',\n",
              " 'hollo',\n",
              " ',',\n",
              " 'hullo',\n",
              " 'and',\n",
              " '(',\n",
              " 'rarely',\n",
              " ')',\n",
              " 'hillo',\n",
              " 'also',\n",
              " 'exist',\n",
              " 'as',\n",
              " 'variants',\n",
              " 'or',\n",
              " 'related',\n",
              " 'words',\n",
              " ',',\n",
              " 'the',\n",
              " 'word',\n",
              " 'can',\n",
              " 'be',\n",
              " 'spelt',\n",
              " 'using',\n",
              " 'any',\n",
              " 'of',\n",
              " 'all',\n",
              " 'five',\n",
              " 'vowels',\n",
              " '.']"
            ]
          },
          "metadata": {
            "tags": []
          },
          "execution_count": 7
        }
      ]
    },
    {
      "cell_type": "code",
      "metadata": {
        "id": "nvhw8evOYUfZ",
        "colab_type": "code",
        "colab": {
          "base_uri": "https://localhost:8080/",
          "height": 34
        },
        "outputId": "aea8225a-e60f-4b1c-b57d-8bb0e28cee95"
      },
      "source": [
        "len(word)"
      ],
      "execution_count": 8,
      "outputs": [
        {
          "output_type": "execute_result",
          "data": {
            "text/plain": [
              "218"
            ]
          },
          "metadata": {
            "tags": []
          },
          "execution_count": 8
        }
      ]
    },
    {
      "cell_type": "code",
      "metadata": {
        "id": "LT347GhJYWYr",
        "colab_type": "code",
        "colab": {}
      },
      "source": [
        "#stopword removal\n",
        "from nltk.corpus import stopwords\n",
        "new_words=[i for i in word if i.lower() not in stopwords.words('english')]"
      ],
      "execution_count": 0,
      "outputs": []
    },
    {
      "cell_type": "code",
      "metadata": {
        "id": "HpGOOsvzYxei",
        "colab_type": "code",
        "colab": {
          "base_uri": "https://localhost:8080/",
          "height": 34
        },
        "outputId": "ec5a6699-70e7-4a80-813d-3ddc0c7efa61"
      },
      "source": [
        "len(new_words)"
      ],
      "execution_count": 10,
      "outputs": [
        {
          "output_type": "execute_result",
          "data": {
            "text/plain": [
              "154"
            ]
          },
          "metadata": {
            "tags": []
          },
          "execution_count": 10
        }
      ]
    },
    {
      "cell_type": "code",
      "metadata": {
        "id": "ZI3qjrFNZli5",
        "colab_type": "code",
        "colab": {
          "base_uri": "https://localhost:8080/",
          "height": 340
        },
        "outputId": "2158bf69-bec3-4f9b-b0a7-669661270aed"
      },
      "source": [
        "#frequency plot\n",
        "nlp=nltk.FreqDist(word)\n",
        "nlp.plot()"
      ],
      "execution_count": 11,
      "outputs": [
        {
          "output_type": "display_data",
          "data": {
            "image/png": "[encoded data removed]",
            "text/plain": [
              "<Figure size 432x288 with 1 Axes>"
            ]
          },
          "metadata": {
            "tags": []
          }
        }
      ]
    },
    {
      "cell_type": "code",
      "metadata": {
        "id": "SM8FO9DZY8x8",
        "colab_type": "code",
        "colab": {
          "base_uri": "https://localhost:8080/",
          "height": 340
        },
        "outputId": "da860c99-57c5-45d2-8160-cef28a289805"
      },
      "source": [
        "#frequency plot\n",
        "nlp1=nltk.FreqDist(new_words)\n",
        "nlp1.plot()"
      ],
      "execution_count": 12,
      "outputs": [
        {
          "output_type": "display_data",
          "data": {
            "image/png": "[encoded data removed]",
            "text/plain": [
              "<Figure size 432x288 with 1 Axes>"
            ]
          },
          "metadata": {
            "tags": []
          }
        }
      ]
    }
  ]
}