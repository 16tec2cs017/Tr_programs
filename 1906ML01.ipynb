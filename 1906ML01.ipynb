{
  "nbformat": 4,
  "nbformat_minor": 0,
  "metadata": {
    "colab": {
      "name": "1906ML01.ipynb",
      "version": "0.3.2",
      "provenance": [],
      "collapsed_sections": [],
      "include_colab_link": true
    },
    "kernelspec": {
      "name": "python3",
      "display_name": "Python 3"
    }
  },
  "cells": [
    {
      "cell_type": "markdown",
      "metadata": {
        "id": "view-in-github",
        "colab_type": "text"
      },
      "source": [
        "<a href=\"https://colab.research.google.com/github/nampy3/n_ml/blob/master/1906ML01.ipynb\" target=\"_parent\"><img src=\"https://colab.research.google.com/assets/colab-badge.svg\" alt=\"Open In Colab\"/></a>"
      ]
    },
    {
      "cell_type": "code",
      "metadata": {
        "id": "fC9e6zznxlDg",
        "colab_type": "code",
        "colab": {}
      },
      "source": [
        "import matplotlib.pyplot as plt\n",
        "import numpy as np\n",
        "import time"
      ],
      "execution_count": 0,
      "outputs": []
    },
    {
      "cell_type": "code",
      "metadata": {
        "id": "i2V_nteeA9SS",
        "colab_type": "code",
        "colab": {}
      },
      "source": [
        "x=[4,7,8,9,11,5]\n",
        "y=[13,23,5,7,9,3]\n",
        "player=['virat','dhoni','vijay','dhawan']\n",
        "runs=[120,44,77,33]\n",
        "exp=[0.1,0,0,0.2]"
      ],
      "execution_count": 0,
      "outputs": []
    },
    {
      "cell_type": "markdown",
      "metadata": {
        "id": "oO0VhXt8CCLG",
        "colab_type": "text"
      },
      "source": [
        "Plotting Graphs"
      ]
    },
    {
      "cell_type": "code",
      "metadata": {
        "id": "msEdqMIMCGTC",
        "colab_type": "code",
        "colab": {
          "base_uri": "https://localhost:8080/",
          "height": 283
        },
        "outputId": "6b8e53a9-af8a-4985-9599-aad991e6deb8"
      },
      "source": [
        "plt.xlabel('x-axis')\n",
        "plt.ylabel('y-axis')\n",
        "plt.plot(x,y)    #ploting line only\n",
        "plt.scatter(x,y)\n",
        "plt.bar(x,y, label=\"pollution\")\n",
        "plt.bar(player,runs,label=\"cricketscore\")\n",
        "plt.grid(color='green')\n",
        "plt.show()"
      ],
      "execution_count": 20,
      "outputs": [
        {
          "output_type": "display_data",
          "data": {
            "image/png": "[encoded data removed]",
            "text/plain": [
              "<Figure size 432x288 with 1 Axes>"
            ]
          },
          "metadata": {
            "tags": []
          }
        }
      ]
    },
    {
      "cell_type": "code",
      "metadata": {
        "id": "xwUeXMG_CkMm",
        "colab_type": "code",
        "colab": {
          "base_uri": "https://localhost:8080/",
          "height": 255
        },
        "outputId": "957a52b9-a346-41a4-a982-2d485aaea736"
      },
      "source": [
        "plt.scatter(x,y)\n",
        "plt.pie(runs ,labels=player, explode=exp)\n",
        "plt.grid(color='green')\n",
        "\n",
        "plt.show()"
      ],
      "execution_count": 32,
      "outputs": [
        {
          "output_type": "display_data",
          "data": {
            "image/png": "[encoded data removed]",
            "text/plain": [
              "<Figure size 432x288 with 1 Axes>"
            ]
          },
          "metadata": {
            "tags": []
          }
        }
      ]
    },
    {
      "cell_type": "code",
      "metadata": {
        "id": "PXnOmO63EKjS",
        "colab_type": "code",
        "colab": {}
      },
      "source": [
        ""
      ],
      "execution_count": 0,
      "outputs": []
    }
  ]
}