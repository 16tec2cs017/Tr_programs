{
  "nbformat": 4,
  "nbformat_minor": 0,
  "metadata": {
    "colab": {
      "name": "tensorflow.ipynb",
      "version": "0.3.2",
      "provenance": []
    },
    "kernelspec": {
      "name": "python3",
      "display_name": "Python 3"
    }
  },
  "cells": [
    {
      "cell_type": "markdown",
      "metadata": {
        "id": "l-ssa1aDlmJT",
        "colab_type": "text"
      },
      "source": [
        "# Tensorflow \n",
        " ### Input \n",
        ">1.   Constant\n",
        "2.   Variables\n",
        "3.   Placeholder\n",
        "\n"
      ]
    },
    {
      "cell_type": "code",
      "metadata": {
        "id": "A7ANErZRlMO5",
        "colab_type": "code",
        "colab": {}
      },
      "source": [
        "import tensorflow as tf"
      ],
      "execution_count": 0,
      "outputs": []
    },
    {
      "cell_type": "markdown",
      "metadata": {
        "id": "H4v0u5CBmepo",
        "colab_type": "text"
      },
      "source": [
        "### To assign fix value in tensorflow we need to define constant"
      ]
    },
    {
      "cell_type": "code",
      "metadata": {
        "id": "jdOwKnpBlcqA",
        "colab_type": "code",
        "colab": {}
      },
      "source": [
        "x=tf.constant(30)    #this is single value constant\n",
        "x1=tf.constant([3,5,66,88])  #this is multiple value constant\n",
        "y=tf.constant(20)"
      ],
      "execution_count": 0,
      "outputs": []
    },
    {
      "cell_type": "code",
      "metadata": {
        "id": "mqgWYP8un08a",
        "colab_type": "code",
        "colab": {}
      },
      "source": [
        "#equation\n",
        "z=x+y     #new tensor ----------  z equation compile and store and wait for resources \n",
        "# CPU , GPU, TPU   ..................."
      ],
      "execution_count": 0,
      "outputs": []
    },
    {
      "cell_type": "code",
      "metadata": {
        "id": "9OUT5usOoSHt",
        "colab_type": "code",
        "colab": {}
      },
      "source": [
        "#we have another method to add the same \n",
        "z1=tf.add(x,y)"
      ],
      "execution_count": 0,
      "outputs": []
    },
    {
      "cell_type": "code",
      "metadata": {
        "id": "keh4h-R-obVR",
        "colab_type": "code",
        "colab": {}
      },
      "source": [
        "#now time for assigning resources for our equations\n",
        "sess=tf.Session()     #connect CPU, GPU, TPU"
      ],
      "execution_count": 0,
      "outputs": []
    },
    {
      "cell_type": "code",
      "metadata": {
        "id": "REMZVz1e0Jup",
        "colab_type": "code",
        "colab": {}
      },
      "source": [
        "output=sess.run(z)\n",
        "output"
      ],
      "execution_count": 0,
      "outputs": []
    },
    {
      "cell_type": "code",
      "metadata": {
        "id": "qOOhY9nY0dP8",
        "colab_type": "code",
        "colab": {}
      },
      "source": [
        "sess.close()"
      ],
      "execution_count": 0,
      "outputs": []
    },
    {
      "cell_type": "code",
      "metadata": {
        "id": "IWmul-ko0fNV",
        "colab_type": "code",
        "colab": {}
      },
      "source": [
        "with tf.Session() as sess:\n",
        "  output1=sess.run(z)\n",
        "  tf.summary.FileWriter('graph',output)"
      ],
      "execution_count": 0,
      "outputs": []
    },
    {
      "cell_type": "code",
      "metadata": {
        "id": "yLZS2xyp1TIQ",
        "colab_type": "code",
        "colab": {}
      },
      "source": [
        ""
      ],
      "execution_count": 0,
      "outputs": []
    }
  ]
}